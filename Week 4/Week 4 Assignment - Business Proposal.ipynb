{
    "cells": [
        {
            "metadata": {
                "collapsed": true
            },
            "cell_type": "markdown",
            "source": "The Battle of Neighbourhoods - Business Problem - Introduction\n\n1. Introduction\n\n1.1 Background\nA startup technology company (Acorn Technologies) wants to set up headquarters and begin trading in Trondheim, Norway. The owner wants to evaluate all of the options available to him to minimise risk and build for the future. It is important to him that the new headquarters be situated near other firms in the same industry because he predicts that there will be close collaboration with these companies, sharing talent and establishing relationships with people. Additionally, he only has a limited budget to work with and recognises that this is an expensive city so would like to maximise the value he gets from the neighbourhood he decides on. Especially considering that cash flow tends to be the biggest challenge to a new business. Whilst these are his main priorities for the near future, he would also like to prepare for future growth and the ability to attract talented employees. This means he is interested in the facilities a neighbourhood has to offer, such as transport links, cafes and shops.\n\n1.2 Problem\nThe purpose of this project is to build an analysis of what the different neighbourhoods in Trondheim have to offer Acorn Technologies, with relevance to the three main areas the owner has highlighted as important to making the correct decision. \n\n1. Proximity to technology businesses in the city\n2. Average property prices in the different neighbourhoods of Trondheim \n3. Neighbourhood facilities available \n\nThis breakdown, into the three areas of interest, will allow the report to build a detailed analysis of each individually and then enable the owner to make a value judgement on the neighbourhoods, considering his weighting of their importance.\n\n1.3 Location\nTrondheim is a city on the northern coast of Norway situated next to Trondheim Fjord. It is a very student oriented city with 1/5th of its population being comprised of students and is home to the Norwegian University of Science and Technology (NTNU).\n\n1.4 Interest\nThis report has been commissioned by the owner of Acorn Technologies and thus will likely be kept private but shared with whomever they decide will be able to help in making a decision of neighbourhood."
        }
    ],
    "metadata": {
        "kernelspec": {
            "name": "python3",
            "display_name": "Python 3.7",
            "language": "python"
        },
        "language_info": {
            "name": "python",
            "version": "3.7.10",
            "mimetype": "text/x-python",
            "codemirror_mode": {
                "name": "ipython",
                "version": 3
            },
            "pygments_lexer": "ipython3",
            "nbconvert_exporter": "python",
            "file_extension": ".py"
        }
    },
    "nbformat": 4,
    "nbformat_minor": 1
}